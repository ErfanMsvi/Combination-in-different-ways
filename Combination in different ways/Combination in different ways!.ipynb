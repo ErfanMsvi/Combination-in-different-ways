{
 "cells": [
  {
   "cell_type": "markdown",
   "metadata": {
    "colab_type": "text",
    "id": "e4YyLVX9QLeB"
   },
   "source": [
    "# Algorithm Design\n",
    "## Homework No. 01\n",
    "### Calculating C(n, k) by different algorithms\n",
    "\\begin{equation*}\n",
    "{n \\choose k} = \\frac {n!} {k! { (n-k)}!}\n",
    "\\end{equation*}\n",
    "### Computer Details\n",
    "* Memory: 16384 RAM\n",
    "* BIOS: 2.1\n",
    "* Processor: Intel(R) Core(TM) i7-8550U CPU @ 1.80GHz (8 CPUs), ~2.0GHz\n",
    "* Hard: SSD Drive\n",
    "* GPU: Intel(R) UHD Graphics 620\n",
    "* OS: Windows 10 Home 64-bit (10.0, Build 18363)"
   ]
  },
  {
   "cell_type": "markdown",
   "metadata": {
    "colab_type": "text",
    "id": "N__iPKTxQLeD"
   },
   "source": [
    "---"
   ]
  },
  {
   "cell_type": "markdown",
   "metadata": {
    "colab_type": "text",
    "id": "woFNEia_QLeE"
   },
   "source": [
    "###### Import libraries"
   ]
  },
  {
   "cell_type": "code",
   "execution_count": 0,
   "metadata": {
    "colab": {},
    "colab_type": "code",
    "id": "t1S-WVxDQLeF"
   },
   "outputs": [],
   "source": [
    "import numpy as np                 # Making Array (And some other operations with arrays)\n",
    "import pandas as pd                # Creating Dataframe\n",
    "from math import factorial         # Factorial Function\n",
    "import time                        # Recording Time\n",
    "import matplotlib.pyplot as plt    # Ploting Tool\n",
    "import google.colab as gclb        # Working with 'Google Colab'"
   ]
  },
  {
   "cell_type": "markdown",
   "metadata": {
    "colab_type": "text",
    "id": "Vu2pr1RhQLeI"
   },
   "source": [
    "###### Generate array(1, 50) = 0 named 'n'"
   ]
  },
  {
   "cell_type": "code",
   "execution_count": 0,
   "metadata": {
    "colab": {},
    "colab_type": "code",
    "id": "7XAlf2GIQLeI"
   },
   "outputs": [],
   "source": [
    "n = np.zeros(50)"
   ]
  },
  {
   "cell_type": "markdown",
   "metadata": {
    "colab_type": "text",
    "id": "X0oOGGW9QLeL"
   },
   "source": [
    "###### Generate array(1, 50) = 0 named 'k'"
   ]
  },
  {
   "cell_type": "code",
   "execution_count": 0,
   "metadata": {
    "colab": {},
    "colab_type": "code",
    "id": "e_n2eqSGQLeM"
   },
   "outputs": [],
   "source": [
    "k = np.zeros(50)"
   ]
  },
  {
   "cell_type": "markdown",
   "metadata": {
    "colab_type": "text",
    "id": "g5SP932QQLeP"
   },
   "source": [
    "###### Initializing array 'n' by random value between [100, 1000) and array 'k' by random value between [1, n[i]]"
   ]
  },
  {
   "cell_type": "code",
   "execution_count": 0,
   "metadata": {
    "colab": {},
    "colab_type": "code",
    "id": "QefPMl7KQLeP"
   },
   "outputs": [],
   "source": [
    "for i in range(50):\n",
    "    n[i] = int(np.random.randint(100, 1000))\n",
    "    k[i] = int(np.random.randint(1, n[i] + 1))"
   ]
  },
  {
   "cell_type": "markdown",
   "metadata": {
    "colab_type": "text",
    "id": "o6gNRXkGQLeT"
   },
   "source": [
    "###### Make main DataFrame by value 'n' and value 'k' named 'df'"
   ]
  },
  {
   "cell_type": "code",
   "execution_count": 0,
   "metadata": {
    "colab": {
     "base_uri": "https://localhost:8080/",
     "height": 204
    },
    "colab_type": "code",
    "id": "kcg82Y5mQLeU",
    "outputId": "f46a01cb-ec48-4faa-cb6d-03d4dae561a1"
   },
   "outputs": [
    {
     "data": {
      "text/html": [
       "<div>\n",
       "<style scoped>\n",
       "    .dataframe tbody tr th:only-of-type {\n",
       "        vertical-align: middle;\n",
       "    }\n",
       "\n",
       "    .dataframe tbody tr th {\n",
       "        vertical-align: top;\n",
       "    }\n",
       "\n",
       "    .dataframe thead th {\n",
       "        text-align: right;\n",
       "    }\n",
       "</style>\n",
       "<table border=\"1\" class=\"dataframe\">\n",
       "  <thead>\n",
       "    <tr style=\"text-align: right;\">\n",
       "      <th></th>\n",
       "      <th>n</th>\n",
       "      <th>k</th>\n",
       "    </tr>\n",
       "  </thead>\n",
       "  <tbody>\n",
       "    <tr>\n",
       "      <th>0</th>\n",
       "      <td>874.0</td>\n",
       "      <td>164.0</td>\n",
       "    </tr>\n",
       "    <tr>\n",
       "      <th>1</th>\n",
       "      <td>712.0</td>\n",
       "      <td>310.0</td>\n",
       "    </tr>\n",
       "    <tr>\n",
       "      <th>2</th>\n",
       "      <td>926.0</td>\n",
       "      <td>586.0</td>\n",
       "    </tr>\n",
       "    <tr>\n",
       "      <th>3</th>\n",
       "      <td>239.0</td>\n",
       "      <td>122.0</td>\n",
       "    </tr>\n",
       "    <tr>\n",
       "      <th>4</th>\n",
       "      <td>519.0</td>\n",
       "      <td>251.0</td>\n",
       "    </tr>\n",
       "  </tbody>\n",
       "</table>\n",
       "</div>"
      ],
      "text/plain": [
       "       n      k\n",
       "0  874.0  164.0\n",
       "1  712.0  310.0\n",
       "2  926.0  586.0\n",
       "3  239.0  122.0\n",
       "4  519.0  251.0"
      ]
     },
     "execution_count": 5,
     "metadata": {
      "tags": []
     },
     "output_type": "execute_result"
    }
   ],
   "source": [
    "df = pd.DataFrame({'n': n, 'k': k})\n",
    "df.head()"
   ]
  },
  {
   "cell_type": "markdown",
   "metadata": {
    "colab_type": "text",
    "id": "Ymaak6QjQLeX"
   },
   "source": [
    "---"
   ]
  },
  {
   "cell_type": "markdown",
   "metadata": {
    "colab_type": "text",
    "id": "RLwNxfalQLeY"
   },
   "source": [
    "# 1st Algorithm\n",
    "### Direct calculation"
   ]
  },
  {
   "cell_type": "markdown",
   "metadata": {
    "colab_type": "text",
    "id": "1_QIL1ZdQLea"
   },
   "source": [
    "###### Algorithm defenition"
   ]
  },
  {
   "cell_type": "code",
   "execution_count": 0,
   "metadata": {
    "colab": {},
    "colab_type": "code",
    "id": "3zceb3_hQLec"
   },
   "outputs": [],
   "source": [
    "def first_algorithm(n: int, k: int) -> int:\n",
    "    \"\"\"Direct calculation of C(n, k).\"\"\"\n",
    "        \n",
    "    n_factorial = 1\n",
    "    for i in range(1, int(n + 1)):\n",
    "        n_factorial *= i\n",
    "        \n",
    "    k_factorial = 1    \n",
    "    for i in range(1, int(k + 1)):\n",
    "        k_factorial *= i\n",
    "    \n",
    "    p = int(n - k)\n",
    "    p_factorial = 1    \n",
    "    for i in range(1, int(p + 1)):\n",
    "        p_factorial *= i\n",
    "        \n",
    "    return n_factorial / (k_factorial * p_factorial)"
   ]
  },
  {
   "cell_type": "markdown",
   "metadata": {
    "colab_type": "text",
    "id": "qLpFkRyuQLei"
   },
   "source": [
    "###### Calculating the execution time"
   ]
  },
  {
   "cell_type": "code",
   "execution_count": 0,
   "metadata": {
    "colab": {
     "base_uri": "https://localhost:8080/",
     "height": 34
    },
    "colab_type": "code",
    "id": "Fle69oCsQLei",
    "outputId": "fd423d84-20f7-41d1-f23f-2199fca84ac7"
   },
   "outputs": [
    {
     "name": "stdout",
     "output_type": "stream",
     "text": [
      "Total time = 0.011699914932250977\n"
     ]
    }
   ],
   "source": [
    "# Initializing array(1, 50) by 0 named 'alg1_time' for recordng execution time\n",
    "alg1_time = np.zeros(50)\n",
    "\n",
    "# 's1' is variable for sum of exection time for specefic algorithm\n",
    "s1 = 0\n",
    "\n",
    "for i in range(50):\n",
    "    # Start point\n",
    "    start_time = time.time()\n",
    "    \n",
    "    # Running algorithm\n",
    "    first_algorithm(n[i], k[i])\n",
    "    \n",
    "    # End point\n",
    "    end_time = time.time()\n",
    "    \n",
    "    # Running time = End point - Start point\n",
    "    ex_time = end_time - start_time\n",
    "    \n",
    "    # time of running this algorimth for n = i and k = i\n",
    "    alg1_time[i] = ex_time\n",
    "    \n",
    "    # Add running time to s1\n",
    "    s1 += ex_time\n",
    "    \n",
    "print('Total time =', s1)"
   ]
  },
  {
   "cell_type": "markdown",
   "metadata": {
    "colab_type": "text",
    "id": "X_IzqsU0QLem"
   },
   "source": [
    "###### Add column for execution time of first algorithm named 'A01_ET' and answer of algorithm for n, k named 'A01_RESULT'"
   ]
  },
  {
   "cell_type": "code",
   "execution_count": 0,
   "metadata": {
    "colab": {
     "base_uri": "https://localhost:8080/",
     "height": 204
    },
    "colab_type": "code",
    "id": "sMCxii4eQLen",
    "outputId": "12a1f0f2-f12b-4c97-b489-800c51f1d5d5"
   },
   "outputs": [
    {
     "data": {
      "text/html": [
       "<div>\n",
       "<style scoped>\n",
       "    .dataframe tbody tr th:only-of-type {\n",
       "        vertical-align: middle;\n",
       "    }\n",
       "\n",
       "    .dataframe tbody tr th {\n",
       "        vertical-align: top;\n",
       "    }\n",
       "\n",
       "    .dataframe thead th {\n",
       "        text-align: right;\n",
       "    }\n",
       "</style>\n",
       "<table border=\"1\" class=\"dataframe\">\n",
       "  <thead>\n",
       "    <tr style=\"text-align: right;\">\n",
       "      <th></th>\n",
       "      <th>n</th>\n",
       "      <th>k</th>\n",
       "      <th>A01_ET</th>\n",
       "    </tr>\n",
       "  </thead>\n",
       "  <tbody>\n",
       "    <tr>\n",
       "      <th>0</th>\n",
       "      <td>874.0</td>\n",
       "      <td>164.0</td>\n",
       "      <td>0.000658</td>\n",
       "    </tr>\n",
       "    <tr>\n",
       "      <th>1</th>\n",
       "      <td>712.0</td>\n",
       "      <td>310.0</td>\n",
       "      <td>0.000376</td>\n",
       "    </tr>\n",
       "    <tr>\n",
       "      <th>2</th>\n",
       "      <td>926.0</td>\n",
       "      <td>586.0</td>\n",
       "      <td>0.000586</td>\n",
       "    </tr>\n",
       "    <tr>\n",
       "      <th>3</th>\n",
       "      <td>239.0</td>\n",
       "      <td>122.0</td>\n",
       "      <td>0.000077</td>\n",
       "    </tr>\n",
       "    <tr>\n",
       "      <th>4</th>\n",
       "      <td>519.0</td>\n",
       "      <td>251.0</td>\n",
       "      <td>0.000227</td>\n",
       "    </tr>\n",
       "  </tbody>\n",
       "</table>\n",
       "</div>"
      ],
      "text/plain": [
       "       n      k    A01_ET\n",
       "0  874.0  164.0  0.000658\n",
       "1  712.0  310.0  0.000376\n",
       "2  926.0  586.0  0.000586\n",
       "3  239.0  122.0  0.000077\n",
       "4  519.0  251.0  0.000227"
      ]
     },
     "execution_count": 8,
     "metadata": {
      "tags": []
     },
     "output_type": "execute_result"
    }
   ],
   "source": [
    "df['A01_ET'] = alg1_time\n",
    "df.head()"
   ]
  },
  {
   "cell_type": "markdown",
   "metadata": {
    "colab_type": "text",
    "id": "b7IenRgfQLes"
   },
   "source": [
    "###### Visualize the result"
   ]
  },
  {
   "cell_type": "code",
   "execution_count": 0,
   "metadata": {
    "colab": {
     "base_uri": "https://localhost:8080/",
     "height": 295
    },
    "colab_type": "code",
    "id": "PwnPnXJIQLet",
    "outputId": "7df04b86-a224-4847-80af-9a7d2f38d43e"
   },
   "outputs": [
    {
     "data": {
      "image/png": "[encoded data removed]",
      "text/plain": [
       "<Figure size 432x288 with 1 Axes>"
      ]
     },
     "metadata": {
      "needs_background": "light",
      "tags": []
     },
     "output_type": "display_data"
    }
   ],
   "source": [
    "# Label of 'x axix'\n",
    "plt.xlabel('Samples')\n",
    "\n",
    "# Label of 'y axix'\n",
    "plt.ylabel('Execution Time')\n",
    "\n",
    "# Title of chart\n",
    "plt.title('Visualization')\n",
    "\n",
    "# Rate of change (Differential)\n",
    "df['A01_ET'].diff().plot(color = 'orange');\n",
    "\n",
    "plt.grid(True)"
   ]
  },
  {
   "cell_type": "markdown",
   "metadata": {
    "colab_type": "text",
    "id": "xhsxYZrxQLew"
   },
   "source": [
    "---"
   ]
  },
  {
   "cell_type": "markdown",
   "metadata": {
    "colab_type": "text",
    "id": "MZ4PR9ErQLex"
   },
   "source": [
    "# 2nd Algorithm\n",
    "### Recursive function"
   ]
  },
  {
   "cell_type": "markdown",
   "metadata": {
    "colab_type": "text",
    "id": "UrAAOQZiQLey"
   },
   "source": [
    "###### Algorithm defenition"
   ]
  },
  {
   "cell_type": "code",
   "execution_count": 0,
   "metadata": {
    "colab": {},
    "colab_type": "code",
    "id": "-Jiq4bEVQLez"
   },
   "outputs": [],
   "source": [
    "def second_algorithm(n: int, k: int) -> int:\n",
    "    \"\"\"Recursive calculation for calculating C(n, k).\"\"\"\n",
    "    \n",
    "    if k == 1:\n",
    "        return n\n",
    "    elif k == n:\n",
    "        return 1\n",
    "    else:\n",
    "        return second_algorithm(n - 1, k - 1) + second_algorithm(n - 1, k)"
   ]
  },
  {
   "cell_type": "markdown",
   "metadata": {
    "colab_type": "text",
    "id": "UvxHVEX_QLe4"
   },
   "source": [
    "###### Calculating the execution time"
   ]
  },
  {
   "cell_type": "code",
   "execution_count": 0,
   "metadata": {
    "colab": {},
    "colab_type": "code",
    "id": "5xnX64wdQLe5"
   },
   "outputs": [],
   "source": [
    "# Initializing array(1, 50) by 0 named 'alg2_time' for recordng execution time\n",
    "alg2_time = np.zeros(50)\n",
    "\n",
    "# 's2' is variable for sum of exection time for specefic algorithm\n",
    "s2 = 0\n",
    "\n",
    "for i in range(50):\n",
    "    # Start point\n",
    "    start_time = time.time()\n",
    "    \n",
    "    # Running algorithm\n",
    "    second_algorithm(n[i], k[i])\n",
    "    \n",
    "    # End point\n",
    "    end_time = time.time()\n",
    "    \n",
    "    # Running time = End point - Start point\n",
    "    ex_time = end_time - start_time\n",
    "    \n",
    "    # time of running this algorimth for n = i and k = i\n",
    "    alg2_time[i] = ex_time\n",
    "    \n",
    "    # Add running time to s2\n",
    "    s2 += ex_time\n",
    "    \n",
    "print('Total time =', s2)"
   ]
  },
  {
   "cell_type": "markdown",
   "metadata": {
    "colab_type": "text",
    "id": "2vaTspqcQLfA"
   },
   "source": [
    "###### Add column for execution time of first algorithm named 'A02_ET' and answer of algorithm for n, k named 'A02_RESULT'"
   ]
  },
  {
   "cell_type": "code",
   "execution_count": 0,
   "metadata": {
    "colab": {
     "base_uri": "https://localhost:8080/",
     "height": 181
    },
    "colab_type": "code",
    "id": "iJjjUtRHQLfB",
    "outputId": "8000e361-ef87-4f2f-c732-05c9a49f3446"
   },
   "outputs": [
    {
     "ename": "NameError",
     "evalue": "ignored",
     "output_type": "error",
     "traceback": [
      "\u001b[0;31m---------------------------------------------------------------------------\u001b[0m",
      "\u001b[0;31mNameError\u001b[0m                                 Traceback (most recent call last)",
      "\u001b[0;32m<ipython-input-10-63f4174ed900>\u001b[0m in \u001b[0;36m<module>\u001b[0;34m()\u001b[0m\n\u001b[0;32m----> 1\u001b[0;31m \u001b[0mdf\u001b[0m\u001b[0;34m[\u001b[0m\u001b[0;34m'A02_ET'\u001b[0m\u001b[0;34m]\u001b[0m \u001b[0;34m=\u001b[0m \u001b[0malg2_time\u001b[0m\u001b[0;34m\u001b[0m\u001b[0;34m\u001b[0m\u001b[0m\n\u001b[0m\u001b[1;32m      2\u001b[0m \u001b[0mdf\u001b[0m\u001b[0;34m.\u001b[0m\u001b[0mhead\u001b[0m\u001b[0;34m(\u001b[0m\u001b[0;34m)\u001b[0m\u001b[0;34m\u001b[0m\u001b[0;34m\u001b[0m\u001b[0m\n",
      "\u001b[0;31mNameError\u001b[0m: name 'alg2_time' is not defined"
     ]
    }
   ],
   "source": [
    "df['A02_ET'] = alg2_time\n",
    "df.head()"
   ]
  },
  {
   "cell_type": "markdown",
   "metadata": {
    "colab_type": "text",
    "id": "k20YoJfBQLfD"
   },
   "source": [
    "###### Visualize the result"
   ]
  },
  {
   "cell_type": "code",
   "execution_count": 0,
   "metadata": {
    "colab": {},
    "colab_type": "code",
    "id": "xaL3GtpbQLfE"
   },
   "outputs": [],
   "source": [
    "# Label of 'x axix'\n",
    "plt.xlabel('Samples')\n",
    "\n",
    "# Label of 'y axix'\n",
    "plt.ylabel('Execution Time')\n",
    "\n",
    "# Title of chart\n",
    "plt.title('Visualization')\n",
    "\n",
    "# Rate of change (Differential)\n",
    "df['A02_ET'].diff().plot(color = 'red');\n",
    "\n",
    "plt.grid(True)"
   ]
  },
  {
   "cell_type": "markdown",
   "metadata": {
    "colab_type": "text",
    "id": "JY1-4MyFQLfH"
   },
   "source": [
    "---"
   ]
  },
  {
   "cell_type": "markdown",
   "metadata": {
    "colab_type": "text",
    "id": "X3Vi6jmRQLfI"
   },
   "source": [
    "# 3rd Algorithm\n",
    "### Memoization function"
   ]
  },
  {
   "cell_type": "code",
   "execution_count": 0,
   "metadata": {
    "colab": {},
    "colab_type": "code",
    "id": "QPwdp_Y4QLfI"
   },
   "outputs": [],
   "source": [
    "# Define variable for saving calculated C(n, k) named 'mem' (abb. Memoize) with value -1\n",
    "mem = np.zeros((1000, 1000)) -1"
   ]
  },
  {
   "cell_type": "markdown",
   "metadata": {
    "colab_type": "text",
    "id": "RoCbbcrVQLfM"
   },
   "source": [
    "###### Algorithm defenition"
   ]
  },
  {
   "cell_type": "code",
   "execution_count": 0,
   "metadata": {
    "colab": {},
    "colab_type": "code",
    "id": "nVD9_Up4QLfN"
   },
   "outputs": [],
   "source": [
    "def third_algorithm(n: int, k: int) -> int:\n",
    "    \"\"\"Calculating C(n, k) with Memoization - Means save calculated C(n, k) somewhere.\"\"\"\n",
    "\n",
    "    if mem[int(n), int(k)] == -1:\n",
    "        if k == 1:\n",
    "            mem[int(n), int(k)] = n\n",
    "        elif k == n:\n",
    "            mem[int(n), int(k)] = 1\n",
    "        else:\n",
    "            mem[int(n), int(k)] = third_algorithm(int(n - 1), int(k - 1)) + third_algorithm(int(n - 1), int(k))\n",
    "    return mem[int(n), int(k)]"
   ]
  },
  {
   "cell_type": "markdown",
   "metadata": {
    "colab_type": "text",
    "id": "jd2D4RZ6QLfT"
   },
   "source": [
    "###### Calculating the execution time"
   ]
  },
  {
   "cell_type": "code",
   "execution_count": 0,
   "metadata": {
    "colab": {
     "base_uri": "https://localhost:8080/",
     "height": 34
    },
    "colab_type": "code",
    "id": "rBJSNh0iQLfU",
    "outputId": "18c301fe-4c1b-4790-befe-7978c0420962"
   },
   "outputs": [
    {
     "name": "stdout",
     "output_type": "stream",
     "text": [
      "Total time = 1.0681514739990234\n"
     ]
    }
   ],
   "source": [
    "# Initializing array(1, 50) by 0 named 'alg3_time' for recordng execution time\n",
    "alg3_time = np.zeros(50)\n",
    "\n",
    "# 's3' is variable for sum of exection time for specefic algorithm\n",
    "s3 = 0\n",
    "\n",
    "for i in range(50):\n",
    "    # Start point\n",
    "    start_time = time.time()\n",
    "    \n",
    "    # Running algorithm\n",
    "    third_algorithm(n[i], k[i])\n",
    "    \n",
    "    # End point\n",
    "    end_time = time.time()\n",
    "    \n",
    "    # Running time = End point - Start point\n",
    "    ex_time = end_time - start_time\n",
    "    \n",
    "    # time of running this algorimth for n = i and k = i\n",
    "    alg3_time[i] = ex_time\n",
    "    \n",
    "    # Add running time to s3\n",
    "    s3 += ex_time\n",
    "    \n",
    "print('Total time =', s3)"
   ]
  },
  {
   "cell_type": "markdown",
   "metadata": {
    "colab_type": "text",
    "id": "6KBJwOXoQLfZ"
   },
   "source": [
    "###### Add column for execution time of first algorithm named 'A03_ET' and answer of algorithm for n, k named 'A03_RESULT'"
   ]
  },
  {
   "cell_type": "code",
   "execution_count": 0,
   "metadata": {
    "colab": {
     "base_uri": "https://localhost:8080/",
     "height": 204
    },
    "colab_type": "code",
    "id": "14Y4unQ2QLfa",
    "outputId": "571117b4-c174-4d3d-aa90-200f1d14025c"
   },
   "outputs": [
    {
     "data": {
      "text/html": [
       "<div>\n",
       "<style scoped>\n",
       "    .dataframe tbody tr th:only-of-type {\n",
       "        vertical-align: middle;\n",
       "    }\n",
       "\n",
       "    .dataframe tbody tr th {\n",
       "        vertical-align: top;\n",
       "    }\n",
       "\n",
       "    .dataframe thead th {\n",
       "        text-align: right;\n",
       "    }\n",
       "</style>\n",
       "<table border=\"1\" class=\"dataframe\">\n",
       "  <thead>\n",
       "    <tr style=\"text-align: right;\">\n",
       "      <th></th>\n",
       "      <th>n</th>\n",
       "      <th>k</th>\n",
       "      <th>A01_ET</th>\n",
       "      <th>A03_ET</th>\n",
       "    </tr>\n",
       "  </thead>\n",
       "  <tbody>\n",
       "    <tr>\n",
       "      <th>0</th>\n",
       "      <td>833.0</td>\n",
       "      <td>191.0</td>\n",
       "      <td>0.000330</td>\n",
       "      <td>0.409018</td>\n",
       "    </tr>\n",
       "    <tr>\n",
       "      <th>1</th>\n",
       "      <td>485.0</td>\n",
       "      <td>479.0</td>\n",
       "      <td>0.000157</td>\n",
       "      <td>0.005614</td>\n",
       "    </tr>\n",
       "    <tr>\n",
       "      <th>2</th>\n",
       "      <td>395.0</td>\n",
       "      <td>195.0</td>\n",
       "      <td>0.000086</td>\n",
       "      <td>0.002541</td>\n",
       "    </tr>\n",
       "    <tr>\n",
       "      <th>3</th>\n",
       "      <td>101.0</td>\n",
       "      <td>88.0</td>\n",
       "      <td>0.000016</td>\n",
       "      <td>0.000003</td>\n",
       "    </tr>\n",
       "    <tr>\n",
       "      <th>4</th>\n",
       "      <td>751.0</td>\n",
       "      <td>591.0</td>\n",
       "      <td>0.000244</td>\n",
       "      <td>0.197149</td>\n",
       "    </tr>\n",
       "  </tbody>\n",
       "</table>\n",
       "</div>"
      ],
      "text/plain": [
       "       n      k    A01_ET    A03_ET\n",
       "0  833.0  191.0  0.000330  0.409018\n",
       "1  485.0  479.0  0.000157  0.005614\n",
       "2  395.0  195.0  0.000086  0.002541\n",
       "3  101.0   88.0  0.000016  0.000003\n",
       "4  751.0  591.0  0.000244  0.197149"
      ]
     },
     "execution_count": 13,
     "metadata": {
      "tags": []
     },
     "output_type": "execute_result"
    }
   ],
   "source": [
    "df['A03_ET'] = alg3_time\n",
    "df.head()"
   ]
  },
  {
   "cell_type": "markdown",
   "metadata": {
    "colab_type": "text",
    "id": "jYtfClydQLfg"
   },
   "source": [
    "###### Visualize the result"
   ]
  },
  {
   "cell_type": "code",
   "execution_count": 0,
   "metadata": {
    "colab": {
     "base_uri": "https://localhost:8080/",
     "height": 295
    },
    "colab_type": "code",
    "id": "gTKW8ZW1QLfh",
    "outputId": "931c5361-bfc9-4009-80f9-c1e2b8956266"
   },
   "outputs": [
    {
     "data": {
      "image/png": "[encoded data removed]",
      "text/plain": [
       "<Figure size 432x288 with 1 Axes>"
      ]
     },
     "metadata": {
      "needs_background": "light",
      "tags": []
     },
     "output_type": "display_data"
    }
   ],
   "source": [
    "# Label of 'x axix'\n",
    "plt.xlabel('Samples')\n",
    "\n",
    "# Label of 'y axix'\n",
    "plt.ylabel('Execution Time')\n",
    "\n",
    "# Title of chart\n",
    "plt.title('Visualization')\n",
    "\n",
    "# Rate of change (Differential)\n",
    "df['A03_ET'].diff().plot(color = 'green');\n",
    "\n",
    "plt.grid(True)"
   ]
  },
  {
   "cell_type": "markdown",
   "metadata": {
    "colab_type": "text",
    "id": "OKfMUzXNQLfm"
   },
   "source": [
    "---"
   ]
  },
  {
   "cell_type": "markdown",
   "metadata": {
    "colab_type": "text",
    "id": "vLrz7a6wQLfn"
   },
   "source": [
    "# 4th Algorithm\n",
    "### Dynamic programming"
   ]
  },
  {
   "cell_type": "markdown",
   "metadata": {
    "colab_type": "text",
    "id": "npp6pkdOQLfo"
   },
   "source": [
    "###### Algorithm defenition"
   ]
  },
  {
   "cell_type": "code",
   "execution_count": 0,
   "metadata": {
    "colab": {},
    "colab_type": "code",
    "id": "9comaCgzQLfp"
   },
   "outputs": [],
   "source": [
    "def forth_algorithm(n: int, k: int) -> int:\n",
    "    \"\"\"Calculating C(n, k) with Dynamic programming's algorithm\"\"\"\n",
    "    \n",
    "    # Define variable for saving calculated C(n, k) named 'result'\n",
    "    result = np.zeros((1000, 1000)) - 1\n",
    "    \n",
    "    for i in range(0, int(n + 1)):\n",
    "        for j in range(0, min(int(i + 1), int(k + 1))):\n",
    "            if j == i or j == 0:\n",
    "                result[int(i), int(j)] = 1\n",
    "            else:\n",
    "                result[int(i), int(j)] = result[int(i - 1), int(j - 1)] + result[int(i - 1), int(j)]\n",
    "    return result[int(n), int(k)]"
   ]
  },
  {
   "cell_type": "markdown",
   "metadata": {
    "colab_type": "text",
    "id": "pgUK8QEbQLfw"
   },
   "source": [
    "###### Calculating the execution time"
   ]
  },
  {
   "cell_type": "code",
   "execution_count": 0,
   "metadata": {
    "colab": {
     "base_uri": "https://localhost:8080/",
     "height": 34
    },
    "colab_type": "code",
    "id": "b67HTft-QLfw",
    "outputId": "c2371818-4f37-4593-d66d-4149fbe0d90b"
   },
   "outputs": [
    {
     "name": "stdout",
     "output_type": "stream",
     "text": [
      "Total time = 10.001170873641968\n"
     ]
    }
   ],
   "source": [
    "# Initializing array(1, 50) by 0 named 'alg4_time' for recordng execution time\n",
    "alg4_time = np.zeros(50)\n",
    "\n",
    "# 's4' is variable for sum of exection time for specefic algorithm\n",
    "s4 = 0\n",
    "\n",
    "for i in range(50):\n",
    "    # Start point\n",
    "    start_time = time.time()\n",
    "    \n",
    "    # Running algorithm\n",
    "    forth_algorithm(n[i], k[i])\n",
    "    \n",
    "    # End point\n",
    "    end_time = time.time()\n",
    "    \n",
    "    # Running time = End point - Start point\n",
    "    ex_time = end_time - start_time\n",
    "    \n",
    "    # time of running this algorimth for n = i and k = i\n",
    "    alg4_time[i] = ex_time\n",
    "    \n",
    "    # Add running time to s3\n",
    "    s4 += ex_time\n",
    "    \n",
    "print('Total time =', s4)"
   ]
  },
  {
   "cell_type": "markdown",
   "metadata": {
    "colab_type": "text",
    "id": "M3NS_u-mQLfz"
   },
   "source": [
    "###### Add column for execution time of first algorithm named 'A04ET' and answer of algorithm for n, k named 'A04RESULT'"
   ]
  },
  {
   "cell_type": "code",
   "execution_count": 0,
   "metadata": {
    "colab": {
     "base_uri": "https://localhost:8080/",
     "height": 204
    },
    "colab_type": "code",
    "id": "sL04zXYkQLf0",
    "outputId": "322f0299-7975-48ec-dbb5-0e5b6e785b6b"
   },
   "outputs": [
    {
     "data": {
      "text/html": [
       "<div>\n",
       "<style scoped>\n",
       "    .dataframe tbody tr th:only-of-type {\n",
       "        vertical-align: middle;\n",
       "    }\n",
       "\n",
       "    .dataframe tbody tr th {\n",
       "        vertical-align: top;\n",
       "    }\n",
       "\n",
       "    .dataframe thead th {\n",
       "        text-align: right;\n",
       "    }\n",
       "</style>\n",
       "<table border=\"1\" class=\"dataframe\">\n",
       "  <thead>\n",
       "    <tr style=\"text-align: right;\">\n",
       "      <th></th>\n",
       "      <th>n</th>\n",
       "      <th>k</th>\n",
       "      <th>A01_ET</th>\n",
       "      <th>A04_ET</th>\n",
       "    </tr>\n",
       "  </thead>\n",
       "  <tbody>\n",
       "    <tr>\n",
       "      <th>0</th>\n",
       "      <td>874.0</td>\n",
       "      <td>164.0</td>\n",
       "      <td>0.000658</td>\n",
       "      <td>0.195060</td>\n",
       "    </tr>\n",
       "    <tr>\n",
       "      <th>1</th>\n",
       "      <td>712.0</td>\n",
       "      <td>310.0</td>\n",
       "      <td>0.000376</td>\n",
       "      <td>0.244474</td>\n",
       "    </tr>\n",
       "    <tr>\n",
       "      <th>2</th>\n",
       "      <td>926.0</td>\n",
       "      <td>586.0</td>\n",
       "      <td>0.000586</td>\n",
       "      <td>0.526236</td>\n",
       "    </tr>\n",
       "    <tr>\n",
       "      <th>3</th>\n",
       "      <td>239.0</td>\n",
       "      <td>122.0</td>\n",
       "      <td>0.000077</td>\n",
       "      <td>0.032237</td>\n",
       "    </tr>\n",
       "    <tr>\n",
       "      <th>4</th>\n",
       "      <td>519.0</td>\n",
       "      <td>251.0</td>\n",
       "      <td>0.000227</td>\n",
       "      <td>0.156106</td>\n",
       "    </tr>\n",
       "  </tbody>\n",
       "</table>\n",
       "</div>"
      ],
      "text/plain": [
       "       n      k    A01_ET    A04_ET\n",
       "0  874.0  164.0  0.000658  0.195060\n",
       "1  712.0  310.0  0.000376  0.244474\n",
       "2  926.0  586.0  0.000586  0.526236\n",
       "3  239.0  122.0  0.000077  0.032237\n",
       "4  519.0  251.0  0.000227  0.156106"
      ]
     },
     "execution_count": 12,
     "metadata": {
      "tags": []
     },
     "output_type": "execute_result"
    }
   ],
   "source": [
    "df['A04_ET'] = alg4_time\n",
    "df.head()"
   ]
  },
  {
   "cell_type": "markdown",
   "metadata": {
    "colab_type": "text",
    "id": "UGwyOPUYQLf2"
   },
   "source": [
    "###### Visualize the result"
   ]
  },
  {
   "cell_type": "code",
   "execution_count": 0,
   "metadata": {
    "colab": {
     "base_uri": "https://localhost:8080/",
     "height": 295
    },
    "colab_type": "code",
    "id": "m681o4JeQLf3",
    "outputId": "0ce030f4-cb62-4fa4-c311-ff4b5c2ed8df"
   },
   "outputs": [
    {
     "data": {
      "image/png": "[encoded data removed]",
      "text/plain": [
       "<Figure size 432x288 with 1 Axes>"
      ]
     },
     "metadata": {
      "needs_background": "light",
      "tags": []
     },
     "output_type": "display_data"
    }
   ],
   "source": [
    "# Label of 'x axix'\n",
    "plt.xlabel('Samples')\n",
    "\n",
    "# Label of 'y axix'\n",
    "plt.ylabel('Execution Time')\n",
    "\n",
    "# Title of chart\n",
    "plt.title('Visualization')\n",
    "\n",
    "# Rate of change (Differential)\n",
    "df['A04_ET'].diff().plot(color = 'blue');\n",
    "\n",
    "plt.grid(True)"
   ]
  },
  {
   "cell_type": "markdown",
   "metadata": {
    "colab_type": "text",
    "id": "OCri_-2pQLf5"
   },
   "source": [
    "---"
   ]
  },
  {
   "cell_type": "markdown",
   "metadata": {
    "colab_type": "text",
    "id": "cjNM5RosQLf6"
   },
   "source": [
    "### Save output with .csv format named 'FILE'"
   ]
  },
  {
   "cell_type": "code",
   "execution_count": 0,
   "metadata": {
    "colab": {},
    "colab_type": "code",
    "id": "XWaNw6ySQLf6"
   },
   "outputs": [],
   "source": [
    "gclb.drive.mount('drive')\n",
    "df.to_csv('drive/My Drive/FILE.csv', index = False);\n",
    "gclb.files.download('drive/My Drive/FILE.csv')"
   ]
  },
  {
   "cell_type": "markdown",
   "metadata": {
    "colab_type": "text",
    "id": "n4xT5qo7QLf9"
   },
   "source": [
    "---"
   ]
  },
  {
   "cell_type": "markdown",
   "metadata": {
    "colab_type": "text",
    "id": "9VxaN0oCQLf-"
   },
   "source": [
    "### Compare results with ploting"
   ]
  },
  {
   "cell_type": "code",
   "execution_count": 0,
   "metadata": {
    "colab": {
     "base_uri": "https://localhost:8080/",
     "height": 265
    },
    "colab_type": "code",
    "id": "T6hSj5B0QLf_",
    "outputId": "c5d7baea-8633-4a03-802c-13e32e572d1e"
   },
   "outputs": [
    {
     "data": {
      "image/png": "[encoded data removed]",
      "text/plain": [
       "<Figure size 432x288 with 1 Axes>"
      ]
     },
     "metadata": {
      "needs_background": "light",
      "tags": []
     },
     "output_type": "display_data"
    }
   ],
   "source": [
    "df['A01_ET'].plot(color = 'orange')\n",
    "# df['A02_ET'].plot(color = 'red')\n",
    "df['A03_ET'].plot(color = 'green')\n",
    "df['A04_ET'].plot(color = 'blue');\n",
    "\n",
    "plt.grid(True)"
   ]
  },
  {
   "cell_type": "markdown",
   "metadata": {
    "colab_type": "text",
    "id": "MRLwlORFgm3L"
   },
   "source": [
    "<br>\n",
    "<div id=\"sec_intro\" style=\"direction:rtl;line-height:250%\">\n",
    "\t<font face=\"IRANSANS\" size=2.5>\n",
    "\t\t<font color=#ff6f00 size=5 style=\"font-weight:bold\">\n",
    "             گزارش کار\n",
    "        </font>\n",
    "\t\t<p></p>\n",
    "\t\t<hr>\n",
    "در این تمرین، سرعت الگوریتم های مختلف برای محاسبه ترکیب یک شی از شی دیگر بررسی \n",
    "و محاسبه شد و نکات و ارزیابی بنده به شرح زیر است\n",
    "<br>\n",
    "باید دانست کارایی الگوریتم برای مقادیر بزرگتر، بهتر مشخص میشود (داده هایی که الگوریتم ها، زمان بیشتری برای اجرا آنها طول میکشند، باعث میشوند کارایی یک \n",
    "الگوریتم با وضوح بیشتری نمایان شود)\n",
    "<br>\n",
    "تست 4 الگوریتم فوق بر روی 50 داده تصادفی در بازه 1 تا 1000 صورت گرفته است (محاسبه فاکتوریل برای اعدادی که در بازه ی بین 1000 تا 10000 باشند ممکن است دچار خطا سرریز شود)\n",
    "<br>\n",
    "توجه به این نکته خالی از لطف نیست که زمان اجرای یک الگوریتم خاص بر روی تمامی 50 داده در انتهای هر الگوریتم محاسبه و چاپ میشود\n",
    "<br>\n",
    "در انتهای هر الگوریتم، نموداری رسم شده که بیانگر نرخ تغییرات محاسبه ی الگوریتم معین برروی یک داده نسبت به داده های دیگر است\n",
    "<br>\n",
    "الگوریتم دوم بنا بر طولانی شدن زمان اجرا (بیش از 5 ساعت)، توسط بنده متوقف شد (صحت درسی الگوریتم را با استفاده از داده های کوچک بررسی کردم) برای داده های کوچک، این الگوریتم حدود 13 برابر دیرتر از الگوریتم پویا اجرا شد و به پایان رسید\n",
    "<br>\n",
    "در انتها نیز، زمان اجرای تمامی الگوریتم ها را بصورت نمودار در کنار یکدیگر آورده ام تا به وضوح نتیجه ی اجرای الگوریتم ها برروی داده های یکسان مشخص شود\n",
    "<br>\n",
    "برای جزئیات زمان اجرا، کافیست تمامی خطوط را اجرا کرده، سپس فایلی که بطور خودکار دانلود شده را مورد بررسی قرار دهید\n",
    "</font>\n",
    "</div>"
   ]
  }
 ],
 "metadata": {
  "colab": {
   "collapsed_sections": [],
   "name": "Code.ipynb",
   "provenance": []
  },
  "kernelspec": {
   "display_name": "Python 3",
   "language": "python",
   "name": "python3"
  },
  "language_info": {
   "codemirror_mode": {
    "name": "ipython",
    "version": 3
   },
   "file_extension": ".py",
   "mimetype": "text/x-python",
   "name": "python",
   "nbconvert_exporter": "python",
   "pygments_lexer": "ipython3",
   "version": "3.8.3"
  }
 },
 "nbformat": 4,
 "nbformat_minor": 1
}
